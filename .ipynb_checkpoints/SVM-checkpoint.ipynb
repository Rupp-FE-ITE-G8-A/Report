{
 "cells": [
  {
   "cell_type": "code",
   "execution_count": null,
   "id": "5bde7734",
   "metadata": {},
   "outputs": [],
   "source": [
    "#Library"
   ]
  },
  {
   "cell_type": "code",
   "execution_count": null,
   "id": "e1560383",
   "metadata": {},
   "outputs": [],
   "source": [
    "import os\n",
    "import numpy as np\n",
    "import cv2\n",
    "import matplotlib.pyplot as plt"
   ]
  },
  {
   "cell_type": "code",
   "execution_count": null,
   "id": "77595669",
   "metadata": {},
   "outputs": [],
   "source": [
    "#Directory store Dataset Path"
   ]
  },
  {
   "cell_type": "code",
   "execution_count": null,
   "id": "e8b1cbe0",
   "metadata": {},
   "outputs": [],
   "source": [
    "dir = r'C:\\Users\\User\\Desktop\\Recognition\\CatDog\\test_set'"
   ]
  },
  {
   "cell_type": "code",
   "execution_count": null,
   "id": "5677487b",
   "metadata": {},
   "outputs": [],
   "source": [
    "#Define Categories of Dataset"
   ]
  },
  {
   "cell_type": "code",
   "execution_count": null,
   "id": "160a1f59",
   "metadata": {},
   "outputs": [],
   "source": [
    "categories = ['cats', 'dogs']"
   ]
  },
  {
   "cell_type": "code",
   "execution_count": null,
   "id": "dc47062d",
   "metadata": {},
   "outputs": [],
   "source": [
    "#Create data to store"
   ]
  },
  {
   "cell_type": "code",
   "execution_count": null,
   "id": "0e537012",
   "metadata": {},
   "outputs": [],
   "source": [
    "data = []"
   ]
  },
  {
   "cell_type": "code",
   "execution_count": null,
   "id": "520117b4",
   "metadata": {},
   "outputs": [],
   "source": [
    "for category in categories:\n",
    "    path = os.path.join(dir, category)\n",
    "    label = categories.idex(category)\n",
    "    \n",
    "    for img in os.listdir(path):\n",
    "        imgpath = os.path.join(path, img)\n",
    "        pet_img = cv2.imread(imgpath, 0)\n",
    "        try:\n",
    "        pet_img = cv2.resize(pet_img, (50, 50))\n",
    "        image = np.array(pet_img).flatten()\n",
    "        \n",
    "        data.append([image, label])\n",
    "\n",
    "print(len(data))\n",
    "    \n",
    " "
   ]
  },
  {
   "cell_type": "code",
   "execution_count": null,
   "id": "9ca1c362",
   "metadata": {},
   "outputs": [],
   "source": [
    " "
   ]
  },
  {
   "cell_type": "code",
   "execution_count": null,
   "id": "b4af9fe1",
   "metadata": {},
   "outputs": [],
   "source": []
  }
 ],
 "metadata": {
  "kernelspec": {
   "display_name": "Python 3 (ipykernel)",
   "language": "python",
   "name": "python3"
  },
  "language_info": {
   "codemirror_mode": {
    "name": "ipython",
    "version": 3
   },
   "file_extension": ".py",
   "mimetype": "text/x-python",
   "name": "python",
   "nbconvert_exporter": "python",
   "pygments_lexer": "ipython3",
   "version": "3.10.9"
  }
 },
 "nbformat": 4,
 "nbformat_minor": 5
}
