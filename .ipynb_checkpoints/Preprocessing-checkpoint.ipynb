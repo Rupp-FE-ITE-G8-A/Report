{
 "cells": [
  {
   "cell_type": "code",
   "execution_count": null,
   "id": "5ca76613",
   "metadata": {},
   "outputs": [],
   "source": [
    "#Name: Lany Malis\n",
    "#Class: ITE-A\n",
    "#Project: Animal Recognition Using Super Vector Machine\n",
    "#Step1: Preprocessing "
   ]
  },
  {
   "cell_type": "markdown",
   "id": "4eabb76d",
   "metadata": {},
   "source": [
    "Importing Library"
   ]
  },
  {
   "cell_type": "code",
   "execution_count": 12,
   "id": "afe32eff",
   "metadata": {},
   "outputs": [],
   "source": [
    "import os                         #For interacting with file and directory\n",
    "import numpy as np                #For numerical computing and multi-dimensional arrays\n",
    "import cv2                        #For image processing\n",
    "import matplotlib.pyplot as plt   #For Visualization Data\n",
    "import pickle                     #For saving and loading module"
   ]
  },
  {
   "cell_type": "markdown",
   "id": "4292df87",
   "metadata": {},
   "source": [
    "Loading Dataset from Directory "
   ]
  },
  {
   "cell_type": "code",
   "execution_count": 21,
   "id": "d90c3396",
   "metadata": {},
   "outputs": [],
   "source": [
    "#Define Path of Data set store in Directory (dir)\n",
    "dir = r'C:\\Users\\User\\Desktop\\Recognition\\CatDog\\test_set'"
   ]
  },
  {
   "cell_type": "code",
   "execution_count": 22,
   "id": "5281392e",
   "metadata": {},
   "outputs": [],
   "source": [
    "#Divide categories of Dataset\n",
    "categories = ['cats', 'dogs']"
   ]
  },
  {
   "cell_type": "code",
   "execution_count": 23,
   "id": "2f6b6788",
   "metadata": {},
   "outputs": [],
   "source": [
    "#Create data arrays for storing image and label \n",
    "data = []"
   ]
  },
  {
   "cell_type": "markdown",
   "id": "ceaec3ea",
   "metadata": {},
   "source": [
    "Preprocessing Image"
   ]
  },
  {
   "cell_type": "code",
   "execution_count": 24,
   "id": "cfe707bf",
   "metadata": {},
   "outputs": [
    {
     "name": "stdout",
     "output_type": "stream",
     "text": [
      "2023\n"
     ]
    }
   ],
   "source": [
    "#Resharping image\n",
    "for category in categories:\n",
    "    #Create a new path which join directory with category \n",
    "    path = os.path.join(dir, category)\n",
    "    #Determine the current index category in the list represent as numerical data\n",
    "    label = categories.index(category)\n",
    "    \n",
    "    for img in os.listdir(path):\n",
    "        imgpath = os.path.join(path, img)\n",
    "        #Read image\n",
    "        pet_img = cv2.imread(imgpath, 0)\n",
    "        try:\n",
    "            #Resize image to (50, 50)\n",
    "            pet_img = cv2.resize(pet_img, (50, 50))\n",
    "            #Converting from 2-dimensional to 1-dimensional array\n",
    "            #(Because SVM works with input data which is in vector form)\n",
    "            image = np.array(pet_img).flatten()\n",
    "            #Add image and label in Data\n",
    "            data.append([image, label])\n",
    "        except Exception as e:\n",
    "            pass\n",
    "#Display size image in data       \n",
    "print(len(data))"
   ]
  },
  {
   "cell_type": "markdown",
   "id": "80300654",
   "metadata": {},
   "source": [
    "Saving data after preprocessing"
   ]
  },
  {
   "cell_type": "code",
   "execution_count": 20,
   "id": "bd0a1e4b",
   "metadata": {},
   "outputs": [],
   "source": [
    "#Write the data to file after Resharping\n",
    "pick_in = open('data1.pickle', 'wb')  #Write data\n",
    "pickle.dump(data, pick_in)            #Save data to pickle file\n",
    "pick_in.close()"
   ]
  }
 ],
 "metadata": {
  "kernelspec": {
   "display_name": "Python 3 (ipykernel)",
   "language": "python",
   "name": "python3"
  },
  "language_info": {
   "codemirror_mode": {
    "name": "ipython",
    "version": 3
   },
   "file_extension": ".py",
   "mimetype": "text/x-python",
   "name": "python",
   "nbconvert_exporter": "python",
   "pygments_lexer": "ipython3",
   "version": "3.10.9"
  }
 },
 "nbformat": 4,
 "nbformat_minor": 5
}
