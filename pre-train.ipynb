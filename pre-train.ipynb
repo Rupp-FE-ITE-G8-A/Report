{
 "cells": [
  {
   "cell_type": "markdown",
   "id": "91f31b96",
   "metadata": {},
   "source": [
    "Borin Reachvimean\n",
    "Class ITE G8-A\n",
    "Group animal's image regconition"
   ]
  },
  {
   "cell_type": "markdown",
   "id": "62567f98",
   "metadata": {},
   "source": [
    "# Animal images regconition"
   ]
  },
  {
   "cell_type": "markdown",
   "id": "fa63b7fb",
   "metadata": {},
   "source": [
    "# The provided code demonstrates the loading and preprocessing of image data using the OpenCV (cv2) library for image processing. The images are stored in a specified directory, and the categories are defined as 'cats' and 'dogs'."
   ]
  },
  {
   "cell_type": "markdown",
   "id": "8a8566bb",
   "metadata": {},
   "source": [
    "Importing libraries for use"
   ]
  },
  {
   "cell_type": "code",
   "execution_count": 1,
   "id": "06efe9ec",
   "metadata": {},
   "outputs": [],
   "source": [
    "import numpy as np                #For interacting with file and directory\n",
    "import cv2                        #For image processing\n",
    "import os                         #For interacting with file and directory\n",
    "import matplotlib.pyplot as plt   #For visualization Data\n",
    "import random                     "
   ]
  },
  {
   "cell_type": "code",
   "execution_count": 2,
   "id": "2a5d1a74",
   "metadata": {},
   "outputs": [],
   "source": [
    "#define path of data and divide dataset's catgories\n",
    "DIRECTORY = r'C:\\Users\\ADMIN\\Documents\\Dataset\\dataset\\training_set'\n",
    "CATEGORIES = ['cats', 'dogs']"
   ]
  },
  {
   "cell_type": "markdown",
   "id": "134db95e",
   "metadata": {},
   "source": [
    " preprocess a collection of images stored in different categories and create a dataset that suitable for training a machine learning mode"
   ]
  },
  {
   "cell_type": "code",
   "execution_count": 3,
   "id": "482d3845",
   "metadata": {},
   "outputs": [],
   "source": [
    "IMG_SIZE = 100 #The IMG_SIZE variable specifies the desired size for resizing the images.\n",
    "\n",
    "data = []\n",
    "\n",
    "for category in CATEGORIES :\n",
    "    folder = os.path.join(DIRECTORY, category)\n",
    "    label = CATEGORIES.index(category)\n",
    "    for img in os.listdir(folder):\n",
    "        img_path= os.path.join(folder, img)\n",
    "        img_arr = cv2.imread(img_path)\n",
    "        img_arr = cv2.resize(img_arr, (IMG_SIZE, IMG_SIZE))\n",
    "        data.append([img_arr, label])"
   ]
  },
  {
   "cell_type": "markdown",
   "id": "64b51c2a",
   "metadata": {},
   "source": [
    "A list named data is created to store the processed image data, where each element is a pair consisting of the image array (img_arr) and its corresponding label (label).\n",
    "\n",
    "The code then iterates through each category in the CATEGORIES list. For each category, it creates a folder path by joining the DIRECTORY and the category name using os.path.join(). The label for the category is assigned based on its index in the CATEGORIES list.\n",
    "\n",
    "Within the category loop, the code iterates through each image file in the folder using os.listdir(). It constructs the image path by joining the folder path and the image filename using os.path.join(). The image is read using cv2.imread() and resized to the desired dimensions using cv2.resize(). The resized image array and its corresponding label are appended to the data list."
   ]
  },
  {
   "cell_type": "code",
   "execution_count": 4,
   "id": "2bbb32b0",
   "metadata": {},
   "outputs": [
    {
     "data": {
      "text/plain": [
       "8000"
      ]
     },
     "execution_count": 4,
     "metadata": {},
     "output_type": "execute_result"
    }
   ],
   "source": [
    "len(data)"
   ]
  },
  {
   "cell_type": "code",
   "execution_count": 5,
   "id": "0f6a1d25",
   "metadata": {},
   "outputs": [],
   "source": [
    "random.shuffle(data)"
   ]
  },
  {
   "cell_type": "code",
   "execution_count": 6,
   "id": "61edeb68",
   "metadata": {},
   "outputs": [],
   "source": [
    "#for store data list\n",
    "x = []\n",
    "y = []\n",
    "#iterate over each elements in data list,  Each element is unpacked into \"features\" and \"labels\"\n",
    "for features, labels in data :\n",
    "    x.append(features)\n",
    "    y.append(labels)"
   ]
  },
  {
   "cell_type": "markdown",
   "id": "bc333720",
   "metadata": {},
   "source": [
    "# convert to Numpy Array that capabilities for handling arrays and these arrays enable efficient numerical computations."
   ]
  },
  {
   "cell_type": "code",
   "execution_count": 7,
   "id": "c2b174b2",
   "metadata": {},
   "outputs": [],
   "source": [
    "x = np.array(x)\n",
    "y = np.array(y)"
   ]
  },
  {
   "cell_type": "markdown",
   "id": "1f33feca",
   "metadata": {},
   "source": [
    "# Using pickle for storing data"
   ]
  },
  {
   "cell_type": "code",
   "execution_count": 8,
   "id": "10f0a769",
   "metadata": {},
   "outputs": [],
   "source": [
    "import pickle #For saving and loading module"
   ]
  },
  {
   "cell_type": "code",
   "execution_count": 9,
   "id": "1793b517",
   "metadata": {},
   "outputs": [],
   "source": [
    "#save data\n",
    "pickle.dump(x, open('X.pkl', 'wb'))\n",
    "pickle.dump(y, open('y.pkl', 'wb'))"
   ]
  }
 ],
 "metadata": {
  "kernelspec": {
   "display_name": "Python 3 (ipykernel)",
   "language": "python",
   "name": "python3"
  },
  "language_info": {
   "codemirror_mode": {
    "name": "ipython",
    "version": 3
   },
   "file_extension": ".py",
   "mimetype": "text/x-python",
   "name": "python",
   "nbconvert_exporter": "python",
   "pygments_lexer": "ipython3",
   "version": "3.10.9"
  }
 },
 "nbformat": 4,
 "nbformat_minor": 5
}
