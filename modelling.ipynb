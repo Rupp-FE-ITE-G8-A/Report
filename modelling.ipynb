{
 "cells": [
  {
   "cell_type": "markdown",
   "id": "f3d827c2",
   "metadata": {},
   "source": [
    "Borin Reachvimean\n",
    "Class ITE G8-A\n",
    "Group animal's image regconition"
   ]
  },
  {
   "cell_type": "markdown",
   "id": "10664b17",
   "metadata": {},
   "source": [
    "# The provided code demonstrates the construction and training of a convolutional neural network (CNN) using the Keras library. "
   ]
  },
  {
   "cell_type": "markdown",
   "id": "164aa235",
   "metadata": {},
   "source": [
    "# Loading data for train"
   ]
  },
  {
   "cell_type": "code",
   "execution_count": 1,
   "id": "e727447a",
   "metadata": {},
   "outputs": [],
   "source": [
    "import pickle # for loading module "
   ]
  },
  {
   "cell_type": "code",
   "execution_count": 2,
   "id": "c22215b2",
   "metadata": {},
   "outputs": [],
   "source": [
    "#load the data file\n",
    "X = pickle.load(open('X.pkl', 'rb'))\n",
    "y = pickle.load(open('y.pkl', 'rb'))"
   ]
  },
  {
   "cell_type": "code",
   "execution_count": 3,
   "id": "a31027b1",
   "metadata": {},
   "outputs": [],
   "source": [
    "X =  X/225"
   ]
  },
  {
   "cell_type": "code",
   "execution_count": 4,
   "id": "6224bdcb",
   "metadata": {},
   "outputs": [
    {
     "data": {
      "text/plain": [
       "(8000, 100, 100, 3)"
      ]
     },
     "execution_count": 4,
     "metadata": {},
     "output_type": "execute_result"
    }
   ],
   "source": [
    "X.shape"
   ]
  },
  {
   "cell_type": "markdown",
   "id": "2a127400",
   "metadata": {},
   "source": [
    "importing needed libraries"
   ]
  },
  {
   "cell_type": "code",
   "execution_count": 5,
   "id": "69323e50",
   "metadata": {},
   "outputs": [],
   "source": [
    "import keras\n",
    "from keras.models import Sequential\n",
    "from keras.layers import Dense, Conv2D, MaxPooling2D, Flatten, Dropout\n",
    "from keras.callbacks import TensorBoard"
   ]
  },
  {
   "cell_type": "markdown",
   "id": "5cb61ae7",
   "metadata": {},
   "source": [
    "# Build a model using keras"
   ]
  },
  {
   "cell_type": "markdown",
   "id": "8230add0",
   "metadata": {},
   "source": [
    "# The model architecture is defined using the Sequential API, which allows for a linear stack of layers. The layers included in the model are as follows:"
   ]
  },
  {
   "cell_type": "code",
   "execution_count": 6,
   "id": "eca084ef",
   "metadata": {},
   "outputs": [],
   "source": [
    "model = Sequential([\n",
    "    Conv2D(64, (3,3)),\n",
    "    MaxPooling2D(pool_size = (2,2)),\n",
    "\n",
    "    Conv2D(64, (3,3)),\n",
    "    MaxPooling2D(pool_size = (2,2)),\n",
    "\n",
    "    Flatten(),\n",
    "\n",
    "    Dense(128, activation = 'relu', input_shape = X[1:]),\n",
    "    Dense(2, activation = 'softmax'),\n",
    "])"
   ]
  },
  {
   "cell_type": "markdown",
   "id": "6c024438",
   "metadata": {},
   "source": [
    "\n",
    "Conv2D(64, (3,3)): This is a 2D convolutional layer with 64 filters and a filter size of 3x3. It applies a set of learnable filters to the input image, extracting relevant features.\n",
    "\n",
    "MaxPooling2D(pool_size=(2,2)): This layer performs max pooling operation with a pool size of 2x2. It downsamples the input representation by selecting the maximum value within each 2x2 window, reducing spatial dimensions.\n",
    "\n",
    "Conv2D(64, (3,3)): This is another 2D convolutional layer with 64 filters and a filter size of 3x3. It further extracts features from the previous layer's output.\n",
    "\n",
    "MaxPooling2D(pool_size=(2,2)): This is another max pooling layer with a pool size of 2x2, further reducing spatial dimensions.\n",
    "\n",
    "Flatten(): This layer flattens the multi-dimensional output from the previous layer into a one-dimensional vector. It prepares the data for input into the fully connected layers.\n",
    "\n",
    "Dense(128, activation='relu'): This is a fully connected layer with 128 units/neurons, using ReLU (Rectified Linear Unit) activation function. It learns non-linear relationships between features extracted by convolutional layers.\n",
    "\n",
    "The input shape is specified as X[1:], which means it takes the shape of the previous layer's output.\n",
    "\n",
    "Dense(2, activation='softmax'): This line adds the final Dense layer to the model. It has 2 units, representing the number of classes in the classification task. It uses the softmax activation function, which normalizes the output into a probability distribution over the classes.\n",
    "\n"
   ]
  },
  {
   "cell_type": "code",
   "execution_count": 7,
   "id": "a70ec05e",
   "metadata": {},
   "outputs": [],
   "source": [
    "#compile a neural network model in keras \n",
    "model.compile(optimizer = 'adam', loss = 'sparse_categorical_crossentropy', metrics=['accuracy'])"
   ]
  },
  {
   "cell_type": "markdown",
   "id": "b5b1cd72",
   "metadata": {},
   "source": [
    " model.compile() function compiles the neural network model by specifying the optimizer, loss function, and evaluation metrics.\n",
    " \n",
    " Adam is an optimization algorithm that is commonly used, It adapts the learning rate as the model trains and typically  \n",
    " performs well in a wide range of scenarios.\n",
    " \n",
    " loss functions quantify the disparity between predicted values and true values. 'sparse_categorical_crossentropy'. This loss \n",
    " function is suitable for multi-class classification tasks\n",
    " "
   ]
  },
  {
   "cell_type": "code",
   "execution_count": 8,
   "id": "47e92e4f",
   "metadata": {},
   "outputs": [
    {
     "name": "stdout",
     "output_type": "stream",
     "text": [
      "Epoch 1/8\n",
      "225/225 [==============================] - 45s 196ms/step - loss: 0.7349 - accuracy: 0.5969 - val_loss: 0.6384 - val_accuracy: 0.6300\n",
      "Epoch 2/8\n",
      "225/225 [==============================] - 45s 201ms/step - loss: 0.5938 - accuracy: 0.6815 - val_loss: 0.6031 - val_accuracy: 0.6687\n",
      "Epoch 3/8\n",
      "225/225 [==============================] - 45s 200ms/step - loss: 0.5412 - accuracy: 0.7267 - val_loss: 0.6450 - val_accuracy: 0.6338\n",
      "Epoch 4/8\n",
      "225/225 [==============================] - 46s 202ms/step - loss: 0.4981 - accuracy: 0.7589 - val_loss: 0.5723 - val_accuracy: 0.7088\n",
      "Epoch 5/8\n",
      "225/225 [==============================] - 47s 208ms/step - loss: 0.4218 - accuracy: 0.8043 - val_loss: 0.6560 - val_accuracy: 0.7050\n",
      "Epoch 6/8\n",
      "225/225 [==============================] - 49s 216ms/step - loss: 0.3453 - accuracy: 0.8431 - val_loss: 0.6155 - val_accuracy: 0.7150\n",
      "Epoch 7/8\n",
      "225/225 [==============================] - 45s 202ms/step - loss: 0.2471 - accuracy: 0.8969 - val_loss: 0.7877 - val_accuracy: 0.7088\n",
      "Epoch 8/8\n",
      "225/225 [==============================] - 45s 198ms/step - loss: 0.1552 - accuracy: 0.9394 - val_loss: 0.9322 - val_accuracy: 0.7163\n"
     ]
    },
    {
     "data": {
      "text/plain": [
       "<keras.callbacks.History at 0x1db705a3d60>"
      ]
     },
     "execution_count": 8,
     "metadata": {},
     "output_type": "execute_result"
    }
   ],
   "source": [
    "model.fit(X, y, batch_size = 32, epochs=8, validation_split=0.1)"
   ]
  },
  {
   "cell_type": "markdown",
   "id": "f7b475b3",
   "metadata": {},
   "source": [
    "batch_size: It specifies the number of samples that are propagated through the network at once.(32 in this case)\n",
    "\n",
    "epochs: It defines the number of times the entire dataset will be passed through the network during training.\n",
    "\n",
    "validation_split: It denotes the fraction of the data to be used for validation."
   ]
  },
  {
   "cell_type": "markdown",
   "id": "e76edd84",
   "metadata": {},
   "source": [
    "# Summary\n",
    "\n",
    "Overall, the provided code demonstrates the construction and training of a CNN model for image classification using Keras. It follows a sequential architecture with convolutional and pooling layers, followed by fully connected layers. The model is compiled with appropriate optimization and loss functions, and training is performed using the specified parameters."
   ]
  }
 ],
 "metadata": {
  "kernelspec": {
   "display_name": "Python 3 (ipykernel)",
   "language": "python",
   "name": "python3"
  },
  "language_info": {
   "codemirror_mode": {
    "name": "ipython",
    "version": 3
   },
   "file_extension": ".py",
   "mimetype": "text/x-python",
   "name": "python",
   "nbconvert_exporter": "python",
   "pygments_lexer": "ipython3",
   "version": "3.10.9"
  }
 },
 "nbformat": 4,
 "nbformat_minor": 5
}
